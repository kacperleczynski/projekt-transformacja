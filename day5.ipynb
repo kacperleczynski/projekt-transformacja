{
  "nbformat": 4,
  "nbformat_minor": 0,
  "metadata": {
    "colab": {
      "name": "day5.ipynb",
      "provenance": [],
      "mount_file_id": "179yRqTFDz4dYI8TZg9LtTgAzgKNwWctq",
      "authorship_tag": "ABX9TyM+CXoOW3CX3bDfdMPpJOxp",
      "include_colab_link": true
    },
    "kernelspec": {
      "name": "python3",
      "display_name": "Python 3"
    },
    "widgets": {
      "application/vnd.jupyter.widget-state+json": {
        "79a85a010e1f4b4bb01ed9399efe679b": {
          "model_module": "@jupyter-widgets/controls",
          "model_name": "HBoxModel",
          "state": {
            "_view_name": "HBoxView",
            "_dom_classes": [],
            "_model_name": "HBoxModel",
            "_view_module": "@jupyter-widgets/controls",
            "_model_module_version": "1.5.0",
            "_view_count": null,
            "_view_module_version": "1.5.0",
            "box_style": "",
            "layout": "IPY_MODEL_0b1854a8ceff42c88c4b7f54c21414b1",
            "_model_module": "@jupyter-widgets/controls",
            "children": [
              "IPY_MODEL_fa7de422fe044700b145db682c8891c1",
              "IPY_MODEL_e0567a45a0b04bf6ac385d1134a42c3c"
            ]
          }
        },
        "0b1854a8ceff42c88c4b7f54c21414b1": {
          "model_module": "@jupyter-widgets/base",
          "model_name": "LayoutModel",
          "state": {
            "_view_name": "LayoutView",
            "grid_template_rows": null,
            "right": null,
            "justify_content": null,
            "_view_module": "@jupyter-widgets/base",
            "overflow": null,
            "_model_module_version": "1.2.0",
            "_view_count": null,
            "flex_flow": null,
            "width": null,
            "min_width": null,
            "border": null,
            "align_items": null,
            "bottom": null,
            "_model_module": "@jupyter-widgets/base",
            "top": null,
            "grid_column": null,
            "overflow_y": null,
            "overflow_x": null,
            "grid_auto_flow": null,
            "grid_area": null,
            "grid_template_columns": null,
            "flex": null,
            "_model_name": "LayoutModel",
            "justify_items": null,
            "grid_row": null,
            "max_height": null,
            "align_content": null,
            "visibility": null,
            "align_self": null,
            "height": null,
            "min_height": null,
            "padding": null,
            "grid_auto_rows": null,
            "grid_gap": null,
            "max_width": null,
            "order": null,
            "_view_module_version": "1.2.0",
            "grid_template_areas": null,
            "object_position": null,
            "object_fit": null,
            "grid_auto_columns": null,
            "margin": null,
            "display": null,
            "left": null
          }
        },
        "fa7de422fe044700b145db682c8891c1": {
          "model_module": "@jupyter-widgets/controls",
          "model_name": "IntProgressModel",
          "state": {
            "_view_name": "ProgressView",
            "style": "IPY_MODEL_789d84f0f53a43e999a3b028999f2fa5",
            "_dom_classes": [],
            "description": "",
            "_model_name": "IntProgressModel",
            "bar_style": "success",
            "max": 476,
            "_view_module": "@jupyter-widgets/controls",
            "_model_module_version": "1.5.0",
            "value": 476,
            "_view_count": null,
            "_view_module_version": "1.5.0",
            "orientation": "horizontal",
            "min": 0,
            "description_tooltip": null,
            "_model_module": "@jupyter-widgets/controls",
            "layout": "IPY_MODEL_47a9c33aa1e746c49eacd33d26d13d14"
          }
        },
        "e0567a45a0b04bf6ac385d1134a42c3c": {
          "model_module": "@jupyter-widgets/controls",
          "model_name": "HTMLModel",
          "state": {
            "_view_name": "HTMLView",
            "style": "IPY_MODEL_34c64db09812474e981100c017d2db95",
            "_dom_classes": [],
            "description": "",
            "_model_name": "HTMLModel",
            "placeholder": "​",
            "_view_module": "@jupyter-widgets/controls",
            "_model_module_version": "1.5.0",
            "value": "100% 476/476 [00:03&lt;00:00, 139.53it/s]",
            "_view_count": null,
            "_view_module_version": "1.5.0",
            "description_tooltip": null,
            "_model_module": "@jupyter-widgets/controls",
            "layout": "IPY_MODEL_61381d5f84e74901af9e01131d24dd57"
          }
        },
        "789d84f0f53a43e999a3b028999f2fa5": {
          "model_module": "@jupyter-widgets/controls",
          "model_name": "ProgressStyleModel",
          "state": {
            "_view_name": "StyleView",
            "_model_name": "ProgressStyleModel",
            "description_width": "",
            "_view_module": "@jupyter-widgets/base",
            "_model_module_version": "1.5.0",
            "_view_count": null,
            "_view_module_version": "1.2.0",
            "bar_color": null,
            "_model_module": "@jupyter-widgets/controls"
          }
        },
        "47a9c33aa1e746c49eacd33d26d13d14": {
          "model_module": "@jupyter-widgets/base",
          "model_name": "LayoutModel",
          "state": {
            "_view_name": "LayoutView",
            "grid_template_rows": null,
            "right": null,
            "justify_content": null,
            "_view_module": "@jupyter-widgets/base",
            "overflow": null,
            "_model_module_version": "1.2.0",
            "_view_count": null,
            "flex_flow": null,
            "width": null,
            "min_width": null,
            "border": null,
            "align_items": null,
            "bottom": null,
            "_model_module": "@jupyter-widgets/base",
            "top": null,
            "grid_column": null,
            "overflow_y": null,
            "overflow_x": null,
            "grid_auto_flow": null,
            "grid_area": null,
            "grid_template_columns": null,
            "flex": null,
            "_model_name": "LayoutModel",
            "justify_items": null,
            "grid_row": null,
            "max_height": null,
            "align_content": null,
            "visibility": null,
            "align_self": null,
            "height": null,
            "min_height": null,
            "padding": null,
            "grid_auto_rows": null,
            "grid_gap": null,
            "max_width": null,
            "order": null,
            "_view_module_version": "1.2.0",
            "grid_template_areas": null,
            "object_position": null,
            "object_fit": null,
            "grid_auto_columns": null,
            "margin": null,
            "display": null,
            "left": null
          }
        },
        "34c64db09812474e981100c017d2db95": {
          "model_module": "@jupyter-widgets/controls",
          "model_name": "DescriptionStyleModel",
          "state": {
            "_view_name": "StyleView",
            "_model_name": "DescriptionStyleModel",
            "description_width": "",
            "_view_module": "@jupyter-widgets/base",
            "_model_module_version": "1.5.0",
            "_view_count": null,
            "_view_module_version": "1.2.0",
            "_model_module": "@jupyter-widgets/controls"
          }
        },
        "61381d5f84e74901af9e01131d24dd57": {
          "model_module": "@jupyter-widgets/base",
          "model_name": "LayoutModel",
          "state": {
            "_view_name": "LayoutView",
            "grid_template_rows": null,
            "right": null,
            "justify_content": null,
            "_view_module": "@jupyter-widgets/base",
            "overflow": null,
            "_model_module_version": "1.2.0",
            "_view_count": null,
            "flex_flow": null,
            "width": null,
            "min_width": null,
            "border": null,
            "align_items": null,
            "bottom": null,
            "_model_module": "@jupyter-widgets/base",
            "top": null,
            "grid_column": null,
            "overflow_y": null,
            "overflow_x": null,
            "grid_auto_flow": null,
            "grid_area": null,
            "grid_template_columns": null,
            "flex": null,
            "_model_name": "LayoutModel",
            "justify_items": null,
            "grid_row": null,
            "max_height": null,
            "align_content": null,
            "visibility": null,
            "align_self": null,
            "height": null,
            "min_height": null,
            "padding": null,
            "grid_auto_rows": null,
            "grid_gap": null,
            "max_width": null,
            "order": null,
            "_view_module_version": "1.2.0",
            "grid_template_areas": null,
            "object_position": null,
            "object_fit": null,
            "grid_auto_columns": null,
            "margin": null,
            "display": null,
            "left": null
          }
        }
      }
    }
  },
  "cells": [
    {
      "cell_type": "markdown",
      "metadata": {
        "id": "view-in-github",
        "colab_type": "text"
      },
      "source": [
        "<a href=\"https://colab.research.google.com/github/python11312/projekt-transformacja/blob/master/day5.ipynb\" target=\"_parent\"><img src=\"https://colab.research.google.com/assets/colab-badge.svg\" alt=\"Open In Colab\"/></a>"
      ]
    },
    {
      "cell_type": "code",
      "metadata": {
        "id": "9uqfcf4RbVkL",
        "colab_type": "code",
        "colab": {
          "base_uri": "https://localhost:8080/",
          "height": 292
        },
        "outputId": "58b28056-3bc7-4402-e7a4-e5404bc9e57b"
      },
      "source": [
        "!pip install eli5"
      ],
      "execution_count": 5,
      "outputs": [
        {
          "output_type": "stream",
          "text": [
            "Collecting eli5\n",
            "\u001b[?25l  Downloading https://files.pythonhosted.org/packages/97/2f/c85c7d8f8548e460829971785347e14e45fa5c6617da374711dec8cb38cc/eli5-0.10.1-py2.py3-none-any.whl (105kB)\n",
            "\r\u001b[K     |███                             | 10kB 20.1MB/s eta 0:00:01\r\u001b[K     |██████▏                         | 20kB 3.1MB/s eta 0:00:01\r\u001b[K     |█████████▎                      | 30kB 4.6MB/s eta 0:00:01\r\u001b[K     |████████████▍                   | 40kB 3.0MB/s eta 0:00:01\r\u001b[K     |███████████████▌                | 51kB 3.7MB/s eta 0:00:01\r\u001b[K     |██████████████████▋             | 61kB 4.4MB/s eta 0:00:01\r\u001b[K     |█████████████████████▊          | 71kB 5.0MB/s eta 0:00:01\r\u001b[K     |████████████████████████▊       | 81kB 5.7MB/s eta 0:00:01\r\u001b[K     |███████████████████████████▉    | 92kB 6.3MB/s eta 0:00:01\r\u001b[K     |███████████████████████████████ | 102kB 4.8MB/s eta 0:00:01\r\u001b[K     |████████████████████████████████| 112kB 4.8MB/s \n",
            "\u001b[?25hRequirement already satisfied: graphviz in /usr/local/lib/python3.6/dist-packages (from eli5) (0.10.1)\n",
            "Requirement already satisfied: scikit-learn>=0.18 in /usr/local/lib/python3.6/dist-packages (from eli5) (0.22.1)\n",
            "Requirement already satisfied: scipy in /usr/local/lib/python3.6/dist-packages (from eli5) (1.4.1)\n",
            "Requirement already satisfied: six in /usr/local/lib/python3.6/dist-packages (from eli5) (1.12.0)\n",
            "Requirement already satisfied: tabulate>=0.7.7 in /usr/local/lib/python3.6/dist-packages (from eli5) (0.8.6)\n",
            "Requirement already satisfied: numpy>=1.9.0 in /usr/local/lib/python3.6/dist-packages (from eli5) (1.17.5)\n",
            "Requirement already satisfied: jinja2 in /usr/local/lib/python3.6/dist-packages (from eli5) (2.11.1)\n",
            "Requirement already satisfied: attrs>16.0.0 in /usr/local/lib/python3.6/dist-packages (from eli5) (19.3.0)\n",
            "Requirement already satisfied: joblib>=0.11 in /usr/local/lib/python3.6/dist-packages (from scikit-learn>=0.18->eli5) (0.14.1)\n",
            "Requirement already satisfied: MarkupSafe>=0.23 in /usr/local/lib/python3.6/dist-packages (from jinja2->eli5) (1.1.1)\n",
            "Installing collected packages: eli5\n",
            "Successfully installed eli5-0.10.1\n"
          ],
          "name": "stdout"
        }
      ]
    },
    {
      "cell_type": "code",
      "metadata": {
        "id": "m1-nSeRNbcgB",
        "colab_type": "code",
        "colab": {}
      },
      "source": [
        "import pandas as pd\n",
        "import numpy as np\n",
        "from sklearn.tree import DecisionTreeRegressor\n",
        "from sklearn.ensemble import RandomForestRegressor\n",
        "\n",
        "from sklearn.metrics import mean_absolute_error\n",
        "from sklearn.model_selection import cross_val_score\n",
        "\n",
        "import eli5\n",
        "from eli5.sklearn import PermutationImportance\n",
        "\n",
        "from ast import literal_eval\n",
        "from tqdm import tqdm_notebook"
      ],
      "execution_count": 0,
      "outputs": []
    },
    {
      "cell_type": "code",
      "metadata": {
        "id": "HOmtJh1bcxti",
        "colab_type": "code",
        "colab": {
          "base_uri": "https://localhost:8080/",
          "height": 34
        },
        "outputId": "e3c406a8-551d-44ae-e1e2-067bd59b7cd1"
      },
      "source": [
        "cd '/content/drive/My Drive/Colab Notebooks/projekt-transformacja'"
      ],
      "execution_count": 7,
      "outputs": [
        {
          "output_type": "stream",
          "text": [
            "/content/drive/My Drive/Colab Notebooks/projekt-transformacja\n"
          ],
          "name": "stdout"
        }
      ]
    },
    {
      "cell_type": "code",
      "metadata": {
        "id": "zM-841J1c5up",
        "colab_type": "code",
        "colab": {
          "base_uri": "https://localhost:8080/",
          "height": 34
        },
        "outputId": "6f5abe36-987d-40e0-8296-b091cef3c392"
      },
      "source": [
        "ls"
      ],
      "execution_count": 6,
      "outputs": [
        {
          "output_type": "stream",
          "text": [
            "\u001b[0m\u001b[01;34mdata\u001b[0m/  day4.ipynb  HelloGithub.ipynb  LICENSE  \u001b[01;34mmatrix_one\u001b[0m/  README.md\n"
          ],
          "name": "stdout"
        }
      ]
    },
    {
      "cell_type": "code",
      "metadata": {
        "id": "gPGASyN2c8Sj",
        "colab_type": "code",
        "colab": {
          "base_uri": "https://localhost:8080/",
          "height": 34
        },
        "outputId": "f291a7de-8eec-4633-8726-4741f6ecf9a9"
      },
      "source": [
        "ls data"
      ],
      "execution_count": 7,
      "outputs": [
        {
          "output_type": "stream",
          "text": [
            "men_shoes.csv\n"
          ],
          "name": "stdout"
        }
      ]
    },
    {
      "cell_type": "code",
      "metadata": {
        "id": "3CM0YsgvdG0h",
        "colab_type": "code",
        "colab": {}
      },
      "source": [
        "df = pd.read_csv('data/men_shoes.csv', low_memory = False)"
      ],
      "execution_count": 0,
      "outputs": []
    },
    {
      "cell_type": "code",
      "metadata": {
        "id": "3Qgmf4gDdavu",
        "colab_type": "code",
        "colab": {
          "base_uri": "https://localhost:8080/",
          "height": 221
        },
        "outputId": "f624f6b7-0543-47ea-c1a4-508810e3ad42"
      },
      "source": [
        "df.columns"
      ],
      "execution_count": 9,
      "outputs": [
        {
          "output_type": "execute_result",
          "data": {
            "text/plain": [
              "Index(['id', 'asins', 'brand', 'categories', 'colors', 'count', 'dateadded',\n",
              "       'dateupdated', 'descriptions', 'dimension', 'ean', 'features',\n",
              "       'flavors', 'imageurls', 'isbn', 'keys', 'manufacturer',\n",
              "       'manufacturernumber', 'merchants', 'name', 'prices_amountmin',\n",
              "       'prices_amountmax', 'prices_availability', 'prices_color',\n",
              "       'prices_condition', 'prices_count', 'prices_currency',\n",
              "       'prices_dateadded', 'prices_dateseen', 'prices_flavor', 'prices_issale',\n",
              "       'prices_merchant', 'prices_offer', 'prices_returnpolicy',\n",
              "       'prices_shipping', 'prices_size', 'prices_source', 'prices_sourceurls',\n",
              "       'prices_warranty', 'quantities', 'reviews', 'sizes', 'skus',\n",
              "       'sourceurls', 'upc', 'vin', 'websiteids', 'weight'],\n",
              "      dtype='object')"
            ]
          },
          "metadata": {
            "tags": []
          },
          "execution_count": 9
        }
      ]
    },
    {
      "cell_type": "code",
      "metadata": {
        "id": "kZUQKROedsNO",
        "colab_type": "code",
        "colab": {}
      },
      "source": [
        "def run_model(feats, model = DecisionTreeRegressor(max_depth=5)):\n",
        "  x = df[ feats ].values\n",
        "  y = df['prices_amountmin'].values\n",
        "\n",
        "  scores = cross_val_score(model, x, y, scoring='neg_mean_absolute_error')\n",
        "  return np.mean(scores), np.std(scores)"
      ],
      "execution_count": 0,
      "outputs": []
    },
    {
      "cell_type": "code",
      "metadata": {
        "id": "WYaFKVg6ea38",
        "colab_type": "code",
        "colab": {
          "base_uri": "https://localhost:8080/",
          "height": 34
        },
        "outputId": "c219b264-c11b-43a2-b951-c51528eaa154"
      },
      "source": [
        "df['brand_cat'] = df['brand'].map(lambda x: str(x).lower()).factorize()[0]\n",
        "run_model(['brand_cat'])"
      ],
      "execution_count": 57,
      "outputs": [
        {
          "output_type": "execute_result",
          "data": {
            "text/plain": [
              "(-58.133398968282776, 4.206122611474276)"
            ]
          },
          "metadata": {
            "tags": []
          },
          "execution_count": 57
        }
      ]
    },
    {
      "cell_type": "code",
      "metadata": {
        "id": "3PKy-sD9fNj5",
        "colab_type": "code",
        "colab": {
          "base_uri": "https://localhost:8080/",
          "height": 34
        },
        "outputId": "1d5c0514-be6a-4271-d8b1-53f45dc6d156"
      },
      "source": [
        "model = RandomForestRegressor( max_depth=5, n_estimators=100, random_state=0 )\n",
        "run_model(['brand_cat'],model)"
      ],
      "execution_count": 12,
      "outputs": [
        {
          "output_type": "execute_result",
          "data": {
            "text/plain": [
              "(-57.31783843165656, 4.181246596160967)"
            ]
          },
          "metadata": {
            "tags": []
          },
          "execution_count": 12
        }
      ]
    },
    {
      "cell_type": "code",
      "metadata": {
        "id": "JdjAIKHBflbG",
        "colab_type": "code",
        "colab": {
          "base_uri": "https://localhost:8080/",
          "height": 513
        },
        "outputId": "1351dbb7-e3cf-4dc7-a43a-1ed3eafece22"
      },
      "source": [
        "df.head()"
      ],
      "execution_count": 13,
      "outputs": [
        {
          "output_type": "execute_result",
          "data": {
            "text/html": [
              "<div>\n",
              "<style scoped>\n",
              "    .dataframe tbody tr th:only-of-type {\n",
              "        vertical-align: middle;\n",
              "    }\n",
              "\n",
              "    .dataframe tbody tr th {\n",
              "        vertical-align: top;\n",
              "    }\n",
              "\n",
              "    .dataframe thead th {\n",
              "        text-align: right;\n",
              "    }\n",
              "</style>\n",
              "<table border=\"1\" class=\"dataframe\">\n",
              "  <thead>\n",
              "    <tr style=\"text-align: right;\">\n",
              "      <th></th>\n",
              "      <th>id</th>\n",
              "      <th>asins</th>\n",
              "      <th>brand</th>\n",
              "      <th>categories</th>\n",
              "      <th>colors</th>\n",
              "      <th>count</th>\n",
              "      <th>dateadded</th>\n",
              "      <th>dateupdated</th>\n",
              "      <th>descriptions</th>\n",
              "      <th>dimension</th>\n",
              "      <th>ean</th>\n",
              "      <th>features</th>\n",
              "      <th>flavors</th>\n",
              "      <th>imageurls</th>\n",
              "      <th>isbn</th>\n",
              "      <th>keys</th>\n",
              "      <th>manufacturer</th>\n",
              "      <th>manufacturernumber</th>\n",
              "      <th>merchants</th>\n",
              "      <th>name</th>\n",
              "      <th>prices_amountmin</th>\n",
              "      <th>prices_amountmax</th>\n",
              "      <th>prices_availability</th>\n",
              "      <th>prices_color</th>\n",
              "      <th>prices_condition</th>\n",
              "      <th>prices_count</th>\n",
              "      <th>prices_currency</th>\n",
              "      <th>prices_dateadded</th>\n",
              "      <th>prices_dateseen</th>\n",
              "      <th>prices_flavor</th>\n",
              "      <th>prices_issale</th>\n",
              "      <th>prices_merchant</th>\n",
              "      <th>prices_offer</th>\n",
              "      <th>prices_returnpolicy</th>\n",
              "      <th>prices_shipping</th>\n",
              "      <th>prices_size</th>\n",
              "      <th>prices_source</th>\n",
              "      <th>prices_sourceurls</th>\n",
              "      <th>prices_warranty</th>\n",
              "      <th>quantities</th>\n",
              "      <th>reviews</th>\n",
              "      <th>sizes</th>\n",
              "      <th>skus</th>\n",
              "      <th>sourceurls</th>\n",
              "      <th>upc</th>\n",
              "      <th>vin</th>\n",
              "      <th>websiteids</th>\n",
              "      <th>weight</th>\n",
              "      <th>brand_cat</th>\n",
              "    </tr>\n",
              "  </thead>\n",
              "  <tbody>\n",
              "    <tr>\n",
              "      <th>0</th>\n",
              "      <td>AVpfHrJ6ilAPnD_xVXOI</td>\n",
              "      <td>NaN</td>\n",
              "      <td>Josmo</td>\n",
              "      <td>Clothing,Shoes,Men's Shoes,All Men's Shoes</td>\n",
              "      <td>NaN</td>\n",
              "      <td>NaN</td>\n",
              "      <td>2016-11-07T00:45:12Z</td>\n",
              "      <td>2016-11-07T00:45:12Z</td>\n",
              "      <td>[{\"dateSeen\":[\"2016-11-07T00:45:12Z\"],\"sourceU...</td>\n",
              "      <td>NaN</td>\n",
              "      <td>6.993020e+11</td>\n",
              "      <td>[{\"key\":\"Gender\",\"value\":[\"Men\"]},{\"key\":\"Shoe...</td>\n",
              "      <td>NaN</td>\n",
              "      <td>https://i5.walmartimages.com/asr/13ac3d61-003c...</td>\n",
              "      <td>NaN</td>\n",
              "      <td>josmo/8190wnavy75,699302044036,0699302044036</td>\n",
              "      <td>NaN</td>\n",
              "      <td>8190-W-NAVY-7.5</td>\n",
              "      <td>[{\"dateSeen\":[\"2016-11-07T00:45:12Z\"],\"name\":\"...</td>\n",
              "      <td>Josmo 8190 Plain Infant Walking Shoes, Navy - ...</td>\n",
              "      <td>39.89</td>\n",
              "      <td>39.89</td>\n",
              "      <td>NaN</td>\n",
              "      <td>NaN</td>\n",
              "      <td>NaN</td>\n",
              "      <td>NaN</td>\n",
              "      <td>USD</td>\n",
              "      <td>2016-11-07T00:45:12Z</td>\n",
              "      <td>2016-11-05T00:00:00Z</td>\n",
              "      <td>NaN</td>\n",
              "      <td>True</td>\n",
              "      <td>NaN</td>\n",
              "      <td>REDUCED USD 12.10</td>\n",
              "      <td>NaN</td>\n",
              "      <td>NaN</td>\n",
              "      <td>NaN</td>\n",
              "      <td>NaN</td>\n",
              "      <td>https://www.walmart.com/ip/Josmo-8190-Plain-In...</td>\n",
              "      <td>NaN</td>\n",
              "      <td>NaN</td>\n",
              "      <td>NaN</td>\n",
              "      <td>NaN</td>\n",
              "      <td>NaN</td>\n",
              "      <td>https://www.walmart.com/ip/Josmo-8190-Plain-In...</td>\n",
              "      <td>6.993020e+11</td>\n",
              "      <td>NaN</td>\n",
              "      <td>NaN</td>\n",
              "      <td>NaN</td>\n",
              "      <td>0</td>\n",
              "    </tr>\n",
              "    <tr>\n",
              "      <th>1</th>\n",
              "      <td>AVpfHrJ6ilAPnD_xVXOI</td>\n",
              "      <td>NaN</td>\n",
              "      <td>Josmo</td>\n",
              "      <td>Clothing,Shoes,Men's Shoes,All Men's Shoes</td>\n",
              "      <td>NaN</td>\n",
              "      <td>NaN</td>\n",
              "      <td>2016-11-07T00:45:12Z</td>\n",
              "      <td>2016-11-07T00:45:12Z</td>\n",
              "      <td>[{\"dateSeen\":[\"2016-11-07T00:45:12Z\"],\"sourceU...</td>\n",
              "      <td>NaN</td>\n",
              "      <td>6.993020e+11</td>\n",
              "      <td>[{\"key\":\"Gender\",\"value\":[\"Men\"]},{\"key\":\"Shoe...</td>\n",
              "      <td>NaN</td>\n",
              "      <td>https://i5.walmartimages.com/asr/13ac3d61-003c...</td>\n",
              "      <td>NaN</td>\n",
              "      <td>josmo/8190wnavy75,699302044036,0699302044036</td>\n",
              "      <td>NaN</td>\n",
              "      <td>8190-W-NAVY-7.5</td>\n",
              "      <td>[{\"dateSeen\":[\"2016-11-07T00:45:12Z\"],\"name\":\"...</td>\n",
              "      <td>Josmo 8190 Plain Infant Walking Shoes, Navy - ...</td>\n",
              "      <td>51.99</td>\n",
              "      <td>51.99</td>\n",
              "      <td>NaN</td>\n",
              "      <td>NaN</td>\n",
              "      <td>new</td>\n",
              "      <td>NaN</td>\n",
              "      <td>USD</td>\n",
              "      <td>2016-11-07T00:45:12Z</td>\n",
              "      <td>2016-11-05T00:00:00Z</td>\n",
              "      <td>NaN</td>\n",
              "      <td>False</td>\n",
              "      <td>UnbeatableSale - Walmart.com</td>\n",
              "      <td>REDUCED USD 12.10</td>\n",
              "      <td>NaN</td>\n",
              "      <td>NaN</td>\n",
              "      <td>NaN</td>\n",
              "      <td>NaN</td>\n",
              "      <td>https://www.walmart.com/ip/Josmo-8190-Plain-In...</td>\n",
              "      <td>NaN</td>\n",
              "      <td>NaN</td>\n",
              "      <td>NaN</td>\n",
              "      <td>NaN</td>\n",
              "      <td>NaN</td>\n",
              "      <td>https://www.walmart.com/ip/Josmo-8190-Plain-In...</td>\n",
              "      <td>6.993020e+11</td>\n",
              "      <td>NaN</td>\n",
              "      <td>NaN</td>\n",
              "      <td>NaN</td>\n",
              "      <td>0</td>\n",
              "    </tr>\n",
              "    <tr>\n",
              "      <th>2</th>\n",
              "      <td>AVpfHsWP1cnluZ0-eVZ7</td>\n",
              "      <td>NaN</td>\n",
              "      <td>SERVUS BY HONEYWELL</td>\n",
              "      <td>All Men's Shoes,Shoes,Men's Shoes,Clothing</td>\n",
              "      <td>NaN</td>\n",
              "      <td>NaN</td>\n",
              "      <td>2016-06-14T04:29:57Z</td>\n",
              "      <td>2016-07-09T20:26:48Z</td>\n",
              "      <td>[{\"dateSeen\":[\"2016-07-09T20:26:48Z\"],\"sourceU...</td>\n",
              "      <td>NaN</td>\n",
              "      <td>NaN</td>\n",
              "      <td>[{\"key\":\"Gender\",\"value\":[\"Men\"]},{\"key\":\"Colo...</td>\n",
              "      <td>NaN</td>\n",
              "      <td>http://i5.walmartimages.com/dfw/dce07b8c-5844/...</td>\n",
              "      <td>NaN</td>\n",
              "      <td>servusbyhoneywell/zsr101blmlg</td>\n",
              "      <td>NaN</td>\n",
              "      <td>ZSR101BLMLG</td>\n",
              "      <td>[{\"dateSeen\":[\"2016-06-14T04:29:57Z\"],\"name\":\"...</td>\n",
              "      <td>Servus By Honeywell Shoe Studs Zsr101blmlg</td>\n",
              "      <td>40.02</td>\n",
              "      <td>40.02</td>\n",
              "      <td>NaN</td>\n",
              "      <td>NaN</td>\n",
              "      <td>new</td>\n",
              "      <td>NaN</td>\n",
              "      <td>USD</td>\n",
              "      <td>2016-06-14T04:29:57Z</td>\n",
              "      <td>2016-03-08T00:00:00Z</td>\n",
              "      <td>NaN</td>\n",
              "      <td>False</td>\n",
              "      <td>SIM Supply Inc - Walmart.com</td>\n",
              "      <td>NaN</td>\n",
              "      <td>NaN</td>\n",
              "      <td>NaN</td>\n",
              "      <td>NaN</td>\n",
              "      <td>NaN</td>\n",
              "      <td>http://www.walmart.com/ip/Studs-Shoe-Large-Pr-...</td>\n",
              "      <td>NaN</td>\n",
              "      <td>NaN</td>\n",
              "      <td>NaN</td>\n",
              "      <td>NaN</td>\n",
              "      <td>NaN</td>\n",
              "      <td>http://www.walmart.com/ip/Studs-Shoe-Large-Pr-...</td>\n",
              "      <td>NaN</td>\n",
              "      <td>NaN</td>\n",
              "      <td>NaN</td>\n",
              "      <td>NaN</td>\n",
              "      <td>1</td>\n",
              "    </tr>\n",
              "    <tr>\n",
              "      <th>3</th>\n",
              "      <td>AVpfHsWP1cnluZ0-eVZ7</td>\n",
              "      <td>NaN</td>\n",
              "      <td>SERVUS BY HONEYWELL</td>\n",
              "      <td>All Men's Shoes,Shoes,Men's Shoes,Clothing</td>\n",
              "      <td>NaN</td>\n",
              "      <td>NaN</td>\n",
              "      <td>2016-06-14T04:29:57Z</td>\n",
              "      <td>2016-07-09T20:26:48Z</td>\n",
              "      <td>[{\"dateSeen\":[\"2016-07-09T20:26:48Z\"],\"sourceU...</td>\n",
              "      <td>NaN</td>\n",
              "      <td>NaN</td>\n",
              "      <td>[{\"key\":\"Gender\",\"value\":[\"Men\"]},{\"key\":\"Colo...</td>\n",
              "      <td>NaN</td>\n",
              "      <td>http://i5.walmartimages.com/dfw/dce07b8c-5844/...</td>\n",
              "      <td>NaN</td>\n",
              "      <td>servusbyhoneywell/zsr101blmlg</td>\n",
              "      <td>NaN</td>\n",
              "      <td>ZSR101BLMLG</td>\n",
              "      <td>[{\"dateSeen\":[\"2016-06-14T04:29:57Z\"],\"name\":\"...</td>\n",
              "      <td>Servus By Honeywell Shoe Studs Zsr101blmlg</td>\n",
              "      <td>50.31</td>\n",
              "      <td>50.31</td>\n",
              "      <td>NaN</td>\n",
              "      <td>NaN</td>\n",
              "      <td>new</td>\n",
              "      <td>NaN</td>\n",
              "      <td>USD</td>\n",
              "      <td>2016-06-14T04:29:57Z</td>\n",
              "      <td>2015-11-30T00:00:00Z</td>\n",
              "      <td>NaN</td>\n",
              "      <td>False</td>\n",
              "      <td>SIM Supply Inc - Walmart.com</td>\n",
              "      <td>NaN</td>\n",
              "      <td>NaN</td>\n",
              "      <td>NaN</td>\n",
              "      <td>NaN</td>\n",
              "      <td>NaN</td>\n",
              "      <td>http://www.walmart.com/ip/Studs-Shoe-Large-Pr-...</td>\n",
              "      <td>NaN</td>\n",
              "      <td>NaN</td>\n",
              "      <td>NaN</td>\n",
              "      <td>NaN</td>\n",
              "      <td>NaN</td>\n",
              "      <td>http://www.walmart.com/ip/Studs-Shoe-Large-Pr-...</td>\n",
              "      <td>NaN</td>\n",
              "      <td>NaN</td>\n",
              "      <td>NaN</td>\n",
              "      <td>NaN</td>\n",
              "      <td>1</td>\n",
              "    </tr>\n",
              "    <tr>\n",
              "      <th>4</th>\n",
              "      <td>AVpfHsWP1cnluZ0-eVZ7</td>\n",
              "      <td>NaN</td>\n",
              "      <td>SERVUS BY HONEYWELL</td>\n",
              "      <td>All Men's Shoes,Shoes,Men's Shoes,Clothing</td>\n",
              "      <td>NaN</td>\n",
              "      <td>NaN</td>\n",
              "      <td>2016-06-14T04:29:57Z</td>\n",
              "      <td>2016-07-09T20:26:48Z</td>\n",
              "      <td>[{\"dateSeen\":[\"2016-07-09T20:26:48Z\"],\"sourceU...</td>\n",
              "      <td>NaN</td>\n",
              "      <td>NaN</td>\n",
              "      <td>[{\"key\":\"Gender\",\"value\":[\"Men\"]},{\"key\":\"Colo...</td>\n",
              "      <td>NaN</td>\n",
              "      <td>http://i5.walmartimages.com/dfw/dce07b8c-5844/...</td>\n",
              "      <td>NaN</td>\n",
              "      <td>servusbyhoneywell/zsr101blmlg</td>\n",
              "      <td>NaN</td>\n",
              "      <td>ZSR101BLMLG</td>\n",
              "      <td>[{\"dateSeen\":[\"2016-06-14T04:29:57Z\"],\"name\":\"...</td>\n",
              "      <td>Servus By Honeywell Shoe Studs Zsr101blmlg</td>\n",
              "      <td>46.26</td>\n",
              "      <td>46.26</td>\n",
              "      <td>NaN</td>\n",
              "      <td>NaN</td>\n",
              "      <td>new</td>\n",
              "      <td>NaN</td>\n",
              "      <td>USD</td>\n",
              "      <td>2016-06-14T04:29:57Z</td>\n",
              "      <td>2016-04-29T00:00:00Z</td>\n",
              "      <td>NaN</td>\n",
              "      <td>False</td>\n",
              "      <td>SIM Supply Inc - Walmart.com</td>\n",
              "      <td>NaN</td>\n",
              "      <td>NaN</td>\n",
              "      <td>NaN</td>\n",
              "      <td>NaN</td>\n",
              "      <td>NaN</td>\n",
              "      <td>http://www.walmart.com/ip/Studs-Shoe-Large-Pr-...</td>\n",
              "      <td>NaN</td>\n",
              "      <td>NaN</td>\n",
              "      <td>NaN</td>\n",
              "      <td>NaN</td>\n",
              "      <td>NaN</td>\n",
              "      <td>http://www.walmart.com/ip/Studs-Shoe-Large-Pr-...</td>\n",
              "      <td>NaN</td>\n",
              "      <td>NaN</td>\n",
              "      <td>NaN</td>\n",
              "      <td>NaN</td>\n",
              "      <td>1</td>\n",
              "    </tr>\n",
              "  </tbody>\n",
              "</table>\n",
              "</div>"
            ],
            "text/plain": [
              "                     id asins  ... weight brand_cat\n",
              "0  AVpfHrJ6ilAPnD_xVXOI   NaN  ...    NaN         0\n",
              "1  AVpfHrJ6ilAPnD_xVXOI   NaN  ...    NaN         0\n",
              "2  AVpfHsWP1cnluZ0-eVZ7   NaN  ...    NaN         1\n",
              "3  AVpfHsWP1cnluZ0-eVZ7   NaN  ...    NaN         1\n",
              "4  AVpfHsWP1cnluZ0-eVZ7   NaN  ...    NaN         1\n",
              "\n",
              "[5 rows x 49 columns]"
            ]
          },
          "metadata": {
            "tags": []
          },
          "execution_count": 13
        }
      ]
    },
    {
      "cell_type": "code",
      "metadata": {
        "id": "OezxPvnBg8bH",
        "colab_type": "code",
        "colab": {
          "base_uri": "https://localhost:8080/",
          "height": 139
        },
        "outputId": "e74c8f38-587d-4b72-b7bd-68b25c080e87"
      },
      "source": [
        "df.features.head().values"
      ],
      "execution_count": 14,
      "outputs": [
        {
          "output_type": "execute_result",
          "data": {
            "text/plain": [
              "array(['[{\"key\":\"Gender\",\"value\":[\"Men\"]},{\"key\":\"Shoe Size\",\"value\":[\"M\"]},{\"key\":\"Shoe Category\",\"value\":[\"Men\\'s Shoes\"]},{\"key\":\"Color\",\"value\":[\"Multicolor\"]},{\"key\":\"Manufacturer Part Number\",\"value\":[\"8190-W-NAVY-7.5\"]},{\"key\":\"Brand\",\"value\":[\"Josmo\"]}]',\n",
              "       '[{\"key\":\"Gender\",\"value\":[\"Men\"]},{\"key\":\"Shoe Size\",\"value\":[\"M\"]},{\"key\":\"Shoe Category\",\"value\":[\"Men\\'s Shoes\"]},{\"key\":\"Color\",\"value\":[\"Multicolor\"]},{\"key\":\"Manufacturer Part Number\",\"value\":[\"8190-W-NAVY-7.5\"]},{\"key\":\"Brand\",\"value\":[\"Josmo\"]}]',\n",
              "       '[{\"key\":\"Gender\",\"value\":[\"Men\"]},{\"key\":\"Color\",\"value\":[\"Black\"]},{\"key\":\"Shipping Weight (in pounds)\",\"value\":[\"0.45\"]},{\"key\":\"Condition\",\"value\":[\"New\"]},{\"key\":\"Brand\",\"value\":[\"SERVUS BY HONEYWELL\"]},{\"key\":\"manufacturer_part_number\",\"value\":[\"ZSR101BLMLG\"]}]',\n",
              "       '[{\"key\":\"Gender\",\"value\":[\"Men\"]},{\"key\":\"Color\",\"value\":[\"Black\"]},{\"key\":\"Shipping Weight (in pounds)\",\"value\":[\"0.45\"]},{\"key\":\"Condition\",\"value\":[\"New\"]},{\"key\":\"Brand\",\"value\":[\"SERVUS BY HONEYWELL\"]},{\"key\":\"manufacturer_part_number\",\"value\":[\"ZSR101BLMLG\"]}]',\n",
              "       '[{\"key\":\"Gender\",\"value\":[\"Men\"]},{\"key\":\"Color\",\"value\":[\"Black\"]},{\"key\":\"Shipping Weight (in pounds)\",\"value\":[\"0.45\"]},{\"key\":\"Condition\",\"value\":[\"New\"]},{\"key\":\"Brand\",\"value\":[\"SERVUS BY HONEYWELL\"]},{\"key\":\"manufacturer_part_number\",\"value\":[\"ZSR101BLMLG\"]}]'],\n",
              "      dtype=object)"
            ]
          },
          "metadata": {
            "tags": []
          },
          "execution_count": 14
        }
      ]
    },
    {
      "cell_type": "code",
      "metadata": {
        "id": "zEovR09KhwdD",
        "colab_type": "code",
        "colab": {
          "base_uri": "https://localhost:8080/",
          "height": 119
        },
        "outputId": "64609bdc-fe55-483b-ecf1-532c8a8cfa3a"
      },
      "source": [
        "str_dict = '[{\"key\":\"Gender\",\"value\":[\"Men\"]},{\"key\":\"Shoe Size\",\"value\":[\"M\"]},{\"key\":\"Shoe Category\",\"value\":[\"Men\\'s Shoes\"]},{\"key\":\"Color\",\"value\":[\"Multicolor\"]},{\"key\":\"Manufacturer Part Number\",\"value\":[\"8190-W-NAVY-7.5\"]},{\"key\":\"Brand\",\"value\":[\"Josmo\"]}]'\n",
        "\n",
        "literal_eval(str_dict)"
      ],
      "execution_count": 16,
      "outputs": [
        {
          "output_type": "execute_result",
          "data": {
            "text/plain": [
              "[{'key': 'Gender', 'value': ['Men']},\n",
              " {'key': 'Shoe Size', 'value': ['M']},\n",
              " {'key': 'Shoe Category', 'value': [\"Men's Shoes\"]},\n",
              " {'key': 'Color', 'value': ['Multicolor']},\n",
              " {'key': 'Manufacturer Part Number', 'value': ['8190-W-NAVY-7.5']},\n",
              " {'key': 'Brand', 'value': ['Josmo']}]"
            ]
          },
          "metadata": {
            "tags": []
          },
          "execution_count": 16
        }
      ]
    },
    {
      "cell_type": "code",
      "metadata": {
        "id": "vV8hav2kiKNJ",
        "colab_type": "code",
        "colab": {}
      },
      "source": [
        "def parse_features(x):\n",
        "  output_dic = {}\n",
        "  if str(x) == 'nan': return output_dic\n",
        "\n",
        "  features =  literal_eval(x.replace('\\\\\"','\"'))\n",
        "  for item in features:\n",
        "    key = item['key'].lower().strip()\n",
        "    value = item['value'][0].lower().strip()\n",
        "  \n",
        "    output_dic[key] = value\n",
        "\n",
        "  return output_dic\n",
        "\n",
        "df['features_parsed'] = df['features'].map(parse_features)"
      ],
      "execution_count": 0,
      "outputs": []
    },
    {
      "cell_type": "markdown",
      "metadata": {
        "id": "lxBNXTxemRea",
        "colab_type": "text"
      },
      "source": [
        ""
      ]
    },
    {
      "cell_type": "code",
      "metadata": {
        "id": "v-OvbOdsjZZ2",
        "colab_type": "code",
        "colab": {
          "base_uri": "https://localhost:8080/",
          "height": 34
        },
        "outputId": "531bf832-2610-4e50-8b8b-d6336ddddd62"
      },
      "source": [
        "keys = set()\n",
        "\n",
        "df['features_parsed'].map( lambda x: keys.update(x.keys()))\n",
        "\n",
        "len(keys)"
      ],
      "execution_count": 39,
      "outputs": [
        {
          "output_type": "execute_result",
          "data": {
            "text/plain": [
              "476"
            ]
          },
          "metadata": {
            "tags": []
          },
          "execution_count": 39
        }
      ]
    },
    {
      "cell_type": "code",
      "metadata": {
        "id": "QIkNXp51joM0",
        "colab_type": "code",
        "colab": {
          "base_uri": "https://localhost:8080/",
          "height": 66,
          "referenced_widgets": [
            "79a85a010e1f4b4bb01ed9399efe679b",
            "0b1854a8ceff42c88c4b7f54c21414b1",
            "fa7de422fe044700b145db682c8891c1",
            "e0567a45a0b04bf6ac385d1134a42c3c",
            "789d84f0f53a43e999a3b028999f2fa5",
            "47a9c33aa1e746c49eacd33d26d13d14",
            "34c64db09812474e981100c017d2db95",
            "61381d5f84e74901af9e01131d24dd57"
          ]
        },
        "outputId": "342f6fcf-bccc-4458-a024-7536162a0e3d"
      },
      "source": [
        "def get_name_feat(key):\n",
        "  return 'feat_' + key\n",
        "\n",
        "for key in tqdm_notebook(keys):\n",
        "  df[get_name_feat(key)] = df.features_parsed.map(lambda feats: feats[key] if key in feats else np.nan)"
      ],
      "execution_count": 40,
      "outputs": [
        {
          "output_type": "display_data",
          "data": {
            "application/vnd.jupyter.widget-view+json": {
              "model_id": "79a85a010e1f4b4bb01ed9399efe679b",
              "version_minor": 0,
              "version_major": 2
            },
            "text/plain": [
              "HBox(children=(IntProgress(value=0, max=476), HTML(value='')))"
            ]
          },
          "metadata": {
            "tags": []
          }
        },
        {
          "output_type": "stream",
          "text": [
            "\n"
          ],
          "name": "stdout"
        }
      ]
    },
    {
      "cell_type": "code",
      "metadata": {
        "id": "4lcQ5ZAIoqo2",
        "colab_type": "code",
        "colab": {
          "base_uri": "https://localhost:8080/",
          "height": 170
        },
        "outputId": "60fc6f62-bbfe-4418-bd0a-0f63ffcc1f2c"
      },
      "source": [
        "df.columns"
      ],
      "execution_count": 41,
      "outputs": [
        {
          "output_type": "execute_result",
          "data": {
            "text/plain": [
              "Index(['id', 'asins', 'brand', 'categories', 'colors', 'count', 'dateadded',\n",
              "       'dateupdated', 'descriptions', 'dimension',\n",
              "       ...\n",
              "       'feat_stone type', 'feat_thick, warm, cozy', 'feat_contains batteries',\n",
              "       'feat_manufacturer sku', 'feat_autographed',\n",
              "       'feat_assembled product weight', 'feat_bridge',\n",
              "       'feat_recommended location', 'feat_has mercury',\n",
              "       'feat_country//region of manufacture'],\n",
              "      dtype='object', length=527)"
            ]
          },
          "metadata": {
            "tags": []
          },
          "execution_count": 41
        }
      ]
    },
    {
      "cell_type": "code",
      "metadata": {
        "id": "_KTB2V4_pVLq",
        "colab_type": "code",
        "colab": {}
      },
      "source": [
        "keys_stat = {}\n",
        "for key in keys:\n",
        "  keys_stat[key] = df[False == df[get_name_feat(key)].isnull()].shape[0] / df.shape[0]*100"
      ],
      "execution_count": 0,
      "outputs": []
    },
    {
      "cell_type": "code",
      "metadata": {
        "id": "624u52d7poS8",
        "colab_type": "code",
        "colab": {
          "base_uri": "https://localhost:8080/",
          "height": 102
        },
        "outputId": "71d7bb24-37d8-498a-c73e-67e98f780035"
      },
      "source": [
        "{k : v for k, v in keys_stat.items() if v > 30}"
      ],
      "execution_count": 51,
      "outputs": [
        {
          "output_type": "execute_result",
          "data": {
            "text/plain": [
              "{'brand': 48.62691466083151,\n",
              " 'color': 47.784463894967175,\n",
              " 'gender': 50.17505470459519,\n",
              " 'manufacturer part number': 36.252735229759296,\n",
              " 'material': 34.9070021881838}"
            ]
          },
          "metadata": {
            "tags": []
          },
          "execution_count": 51
        }
      ]
    },
    {
      "cell_type": "markdown",
      "metadata": {
        "id": "JKp5YtN1ri3V",
        "colab_type": "text"
      },
      "source": [
        ""
      ]
    },
    {
      "cell_type": "code",
      "metadata": {
        "id": "SKvU7qbbqTw4",
        "colab_type": "code",
        "colab": {}
      },
      "source": [
        "df['feat_brand_cat'] = df['feat_brand'].factorize()[0]\n",
        "df['feat_color_cat'] = df['feat_color'].factorize()[0]\n",
        "df['feat_gender_cat'] = df['feat_gender'].factorize()[0]\n",
        "df['feat_manufacturer part number_cat'] = df['feat_manufacturer part number'].factorize()[0]\n",
        "df['feat_material_cat'] = df['feat_material'].factorize()[0]\n",
        "\n",
        "\n",
        "df['feat_sport_cat'] = df['feat_sport'].factorize()[0]\n",
        "df['feat_style_cat'] = df['feat_style'].factorize()[0]\n",
        "\n",
        "for key in keys:\n",
        "  df[get_name_feat(key) + '_cat'] = df[get_name_feat(key)].factorize()[0]\n"
      ],
      "execution_count": 0,
      "outputs": []
    },
    {
      "cell_type": "code",
      "metadata": {
        "id": "ZuxL5yFar9Vj",
        "colab_type": "code",
        "colab": {
          "base_uri": "https://localhost:8080/",
          "height": 34
        },
        "outputId": "afe7ebaf-d6e2-4d00-b6b1-7b6d5f583008"
      },
      "source": [
        "df['brand'] = df['brand'].map(lambda x: str(x).lower() )\n",
        "df[ df.brand == df.feat_brand ].shape"
      ],
      "execution_count": 65,
      "outputs": [
        {
          "output_type": "execute_result",
          "data": {
            "text/plain": [
              "(8846, 532)"
            ]
          },
          "metadata": {
            "tags": []
          },
          "execution_count": 65
        }
      ]
    },
    {
      "cell_type": "code",
      "metadata": {
        "id": "mcSJQy3SsjM_",
        "colab_type": "code",
        "colab": {}
      },
      "source": [
        "feats = ['']"
      ],
      "execution_count": 0,
      "outputs": []
    },
    {
      "cell_type": "code",
      "metadata": {
        "id": "YO8xEP9wujxZ",
        "colab_type": "code",
        "colab": {
          "base_uri": "https://localhost:8080/",
          "height": 34
        },
        "outputId": "13ba9697-0e63-4a68-f015-511033387238"
      },
      "source": [
        "model = RandomForestRegressor(max_depth=5, n_estimators=100)\n",
        "run_model(['brand_cat'], model)"
      ],
      "execution_count": 83,
      "outputs": [
        {
          "output_type": "execute_result",
          "data": {
            "text/plain": [
              "(-57.377454566637766, 4.121387187537112)"
            ]
          },
          "metadata": {
            "tags": []
          },
          "execution_count": 83
        }
      ]
    },
    {
      "cell_type": "code",
      "metadata": {
        "id": "F2j4aQqHuw67",
        "colab_type": "code",
        "colab": {}
      },
      "source": [
        "\n",
        "feats = ['brand_cat','feat_brand_cat','feat_resizable_cat','feat_gender_cat','feat_material_cat','feat_style_cat','feat_sport_cat']\n",
        "#feats +=\n",
        "model = RandomForestRegressor(max_depth=5, n_estimators=100)\n",
        "result =run_model(feats, model)"
      ],
      "execution_count": 0,
      "outputs": []
    },
    {
      "cell_type": "code",
      "metadata": {
        "id": "elzP9hcRvdN7",
        "colab_type": "code",
        "colab": {
          "base_uri": "https://localhost:8080/",
          "height": 170
        },
        "outputId": "70dcd130-6a99-4c69-85ae-5b49aca88ad0"
      },
      "source": [
        "x = df[ feats ].values\n",
        "y = df['prices_amountmin'].values\n",
        "\n",
        "m = RandomForestRegressor(max_depth=5, n_estimators=100, random_state=0)\n",
        "m.fit(x,y)\n",
        "print(result)\n",
        "perm = PermutationImportance(m, random_state=1).fit(x,y);\n",
        "eli5.show_weights(perm,feature_names = feats)"
      ],
      "execution_count": 93,
      "outputs": [
        {
          "output_type": "stream",
          "text": [
            "(-57.22401754693974, 4.23884325238982)\n"
          ],
          "name": "stdout"
        },
        {
          "output_type": "execute_result",
          "data": {
            "text/html": [
              "\n",
              "    <style>\n",
              "    table.eli5-weights tr:hover {\n",
              "        filter: brightness(85%);\n",
              "    }\n",
              "</style>\n",
              "\n",
              "\n",
              "\n",
              "    \n",
              "\n",
              "    \n",
              "\n",
              "    \n",
              "\n",
              "    \n",
              "\n",
              "    \n",
              "\n",
              "    \n",
              "\n",
              "\n",
              "    \n",
              "\n",
              "    \n",
              "\n",
              "    \n",
              "\n",
              "    \n",
              "\n",
              "    \n",
              "\n",
              "    \n",
              "\n",
              "\n",
              "    \n",
              "\n",
              "    \n",
              "\n",
              "    \n",
              "\n",
              "    \n",
              "\n",
              "    \n",
              "        <table class=\"eli5-weights eli5-feature-importances\" style=\"border-collapse: collapse; border: none; margin-top: 0em; table-layout: auto;\">\n",
              "    <thead>\n",
              "    <tr style=\"border: none;\">\n",
              "        <th style=\"padding: 0 1em 0 0.5em; text-align: right; border: none;\">Weight</th>\n",
              "        <th style=\"padding: 0 0.5em 0 0.5em; text-align: left; border: none;\">Feature</th>\n",
              "    </tr>\n",
              "    </thead>\n",
              "    <tbody>\n",
              "    \n",
              "        <tr style=\"background-color: hsl(120, 100.00%, 80.00%); border: none;\">\n",
              "            <td style=\"padding: 0 1em 0 0.5em; text-align: right; border: none;\">\n",
              "                0.2592\n",
              "                \n",
              "                    &plusmn; 0.0097\n",
              "                \n",
              "            </td>\n",
              "            <td style=\"padding: 0 0.5em 0 0.5em; text-align: left; border: none;\">\n",
              "                brand_cat\n",
              "            </td>\n",
              "        </tr>\n",
              "    \n",
              "        <tr style=\"background-color: hsl(120, 100.00%, 88.99%); border: none;\">\n",
              "            <td style=\"padding: 0 1em 0 0.5em; text-align: right; border: none;\">\n",
              "                0.1105\n",
              "                \n",
              "                    &plusmn; 0.0138\n",
              "                \n",
              "            </td>\n",
              "            <td style=\"padding: 0 0.5em 0 0.5em; text-align: left; border: none;\">\n",
              "                feat_material_cat\n",
              "            </td>\n",
              "        </tr>\n",
              "    \n",
              "        <tr style=\"background-color: hsl(120, 100.00%, 95.28%); border: none;\">\n",
              "            <td style=\"padding: 0 1em 0 0.5em; text-align: right; border: none;\">\n",
              "                0.0329\n",
              "                \n",
              "                    &plusmn; 0.0030\n",
              "                \n",
              "            </td>\n",
              "            <td style=\"padding: 0 0.5em 0 0.5em; text-align: left; border: none;\">\n",
              "                feat_gender_cat\n",
              "            </td>\n",
              "        </tr>\n",
              "    \n",
              "        <tr style=\"background-color: hsl(120, 100.00%, 96.39%); border: none;\">\n",
              "            <td style=\"padding: 0 1em 0 0.5em; text-align: right; border: none;\">\n",
              "                0.0225\n",
              "                \n",
              "                    &plusmn; 0.0086\n",
              "                \n",
              "            </td>\n",
              "            <td style=\"padding: 0 0.5em 0 0.5em; text-align: left; border: none;\">\n",
              "                feat_resizable_cat\n",
              "            </td>\n",
              "        </tr>\n",
              "    \n",
              "        <tr style=\"background-color: hsl(120, 100.00%, 96.59%); border: none;\">\n",
              "            <td style=\"padding: 0 1em 0 0.5em; text-align: right; border: none;\">\n",
              "                0.0207\n",
              "                \n",
              "                    &plusmn; 0.0007\n",
              "                \n",
              "            </td>\n",
              "            <td style=\"padding: 0 0.5em 0 0.5em; text-align: left; border: none;\">\n",
              "                feat_brand_cat\n",
              "            </td>\n",
              "        </tr>\n",
              "    \n",
              "        <tr style=\"background-color: hsl(120, 100.00%, 98.29%); border: none;\">\n",
              "            <td style=\"padding: 0 1em 0 0.5em; text-align: right; border: none;\">\n",
              "                0.0077\n",
              "                \n",
              "                    &plusmn; 0.0012\n",
              "                \n",
              "            </td>\n",
              "            <td style=\"padding: 0 0.5em 0 0.5em; text-align: left; border: none;\">\n",
              "                feat_style_cat\n",
              "            </td>\n",
              "        </tr>\n",
              "    \n",
              "        <tr style=\"background-color: hsl(120, 100.00%, 99.85%); border: none;\">\n",
              "            <td style=\"padding: 0 1em 0 0.5em; text-align: right; border: none;\">\n",
              "                0.0002\n",
              "                \n",
              "                    &plusmn; 0.0000\n",
              "                \n",
              "            </td>\n",
              "            <td style=\"padding: 0 0.5em 0 0.5em; text-align: left; border: none;\">\n",
              "                feat_sport_cat\n",
              "            </td>\n",
              "        </tr>\n",
              "    \n",
              "    \n",
              "    </tbody>\n",
              "</table>\n",
              "    \n",
              "\n",
              "    \n",
              "\n",
              "\n",
              "    \n",
              "\n",
              "    \n",
              "\n",
              "    \n",
              "\n",
              "    \n",
              "\n",
              "    \n",
              "\n",
              "    \n",
              "\n",
              "\n",
              "\n"
            ],
            "text/plain": [
              "<IPython.core.display.HTML object>"
            ]
          },
          "metadata": {
            "tags": []
          },
          "execution_count": 93
        }
      ]
    },
    {
      "cell_type": "code",
      "metadata": {
        "id": "W1_rH0HXwR6D",
        "colab_type": "code",
        "colab": {
          "base_uri": "https://localhost:8080/",
          "height": 139
        },
        "outputId": "1bcf99d2-33cb-42c8-9188-fcabd880f580"
      },
      "source": [
        "df[ df['brand'] == 'nike'].features_parsed.sample(5).values"
      ],
      "execution_count": 80,
      "outputs": [
        {
          "output_type": "execute_result",
          "data": {
            "text/plain": [
              "array([{},\n",
              "       {'sport': 'baseball', 'condition': 'new without box', 'type': 'cleats'},\n",
              "       {'sport': 'basketball shoes', 'style': 'basketball shoes', 'pattern': 'solid', 'occasion': 'basketball shoes', 'material': 'mesh', 'gender': 'men', 'shoe size': '11 us men', 'shoe category': \"men's shoes\", 'assembled product dimensions (l x w x h)': '12.00 x 8.00 x 6.00 inches', 'country/region of manufacture': 'china', 'fabric content': 'mesh', 'color': 'other', 'model': '705370 484', 'shoe closure': 'lace-up', 'casual & dress shoe style': 'basketball shoes', 'manufacturer part number': '705370 484', 'condition': 'new with box', 'variant group id': '224#mp#705370 484', 'brand': 'nike', 'age group': 'men', 'shoe width': 'd(m)'},\n",
              "       {'main color': 'yellow', 'mpn': '719927-700'},\n",
              "       {'sport': 'football', 'type': 'cleats', 'condition': 'new with box'}],\n",
              "      dtype=object)"
            ]
          },
          "metadata": {
            "tags": []
          },
          "execution_count": 80
        }
      ]
    },
    {
      "cell_type": "code",
      "metadata": {
        "id": "wW2z8SbJw6cg",
        "colab_type": "code",
        "colab": {}
      },
      "source": [
        "#feats_cat = [x for x in df.columns if 'cat' in x]\n",
        "#feats_cat\n"
      ],
      "execution_count": 0,
      "outputs": []
    },
    {
      "cell_type": "code",
      "metadata": {
        "id": "xnd2UqJO0dAd",
        "colab_type": "code",
        "colab": {
          "base_uri": "https://localhost:8080/",
          "height": 289
        },
        "outputId": "24c6b9f8-a636-43e8-a101-3a900488c5ee"
      },
      "source": [
        "df['weight'].unique()"
      ],
      "execution_count": 90,
      "outputs": [
        {
          "output_type": "execute_result",
          "data": {
            "text/plain": [
              "array([nan, '3.0 lbs', '9 g', '1.45 lbs', '0.45 lbs', '1.0 lbs',\n",
              "       '0.23 lbs', '5.0 lbs', '5.5 lbs', '7.45 lbs', '4.0 lbs',\n",
              "       '2.7969 lbs', '3.9 lbs', '4.6 pounds', '2.1 lbs', '1.1057 lbs',\n",
              "       '15.0 lbs', '2.4 ounces', '454 g', '0.105 lbs', '9.1 ounces',\n",
              "       '4.8 lbs', '6.1 lbs', '6.5 lbs', '1.1041 lbs', '1.3 Kg', '91 g',\n",
              "       '20.0 lbs', '6.0 lbs', '386 g', '0.81 lbs', '4.5 lbs',\n",
              "       '0.5 ounces', '2.0 lbs', '3.13 lbs', '5.9 lbs', '6.15 lbs',\n",
              "       '1 pounds', '1.95 lbs', '2.15 lbs', '2 pounds', '2.1 pounds',\n",
              "       '14 Kg', '0.4788 lbs', '10.0 lbs', '0.38 lbs', '2.5 lbs',\n",
              "       '68.912 lbs', '45 g', '13.09 lbs', '2.5 pounds', '0.21 lbs',\n",
              "       '16.75 lbs', '6.3 lbs', '272 g', '1.8 Kg', '2.8 pounds', '0.1 lbs',\n",
              "       '5.05 lbs', '0.28 lbs', '76.08 lbs', '0.15 lbs', '200 g',\n",
              "       '7.8 pounds', '399 g', '4.95 lbs', '64.144 lbs', '24 pounds',\n",
              "       '73.696 lbs', '1.6 lbs', '6.6 ounces', '5 g', '1.2 Kg', '862 g',\n",
              "       '3.05 lb', '8.6 ounces', '3.6 lbs', '71.296 lbs', '5.2 pounds',\n",
              "       '3.44 lbs', '0.3 ounces', '1.4 Kg'], dtype=object)"
            ]
          },
          "metadata": {
            "tags": []
          },
          "execution_count": 90
        }
      ]
    },
    {
      "cell_type": "code",
      "metadata": {
        "id": "gkaUrSbS4Bba",
        "colab_type": "code",
        "colab": {}
      },
      "source": [
        ""
      ],
      "execution_count": 0,
      "outputs": []
    }
  ]
}